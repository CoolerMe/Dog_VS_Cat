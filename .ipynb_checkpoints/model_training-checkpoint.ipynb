{
 "cells": [
  {
   "cell_type": "markdown",
   "metadata": {
    "collapsed": true
   },
   "source": [
    "#### 经过处理,已经将大部分异常值从数据集中筛选出来了,接下来就是训练自己的模型了"
   ]
  },
  {
   "cell_type": "code",
   "execution_count": 1,
   "metadata": {},
   "outputs": [],
   "source": [
    "# coding=utf-8\n",
    "import numpy as np\n",
    "from sklearn.datasets import load_files\n",
    "\n",
    "def load_dataset(path):\n",
    "    \"\"\"加载数据的方法\"\"\"\n",
    "    data = load_files(path)\n",
    "    print(type(data))\n",
    "    data_files = np.array(data['filenames'])\n",
    "    # target直接是0,1\n",
    "    data_targets = np.array(data['target'])\n",
    "    return data_files, data_targets\n"
   ]
  },
  {
   "cell_type": "code",
   "execution_count": 2,
   "metadata": {},
   "outputs": [],
   "source": [
    "# 创建直接加载数据集并直接分割的方法\n",
    "\n",
    "def load_all_data(data_dir='train_set', test_size=0.2, random_state=8888):\n",
    "    #加载所有的处理过的猫狗数据\n",
    "    train_files, train_targets = load_dataset(data_dir)\n",
    "    #打印下看看有没有问题\n",
    "    print(train_files[0], train_targets[0])\n",
    "    from sklearn.model_selection import train_test_split\n",
    "    import numpy as np\n",
    "    X = train_files\n",
    "    Y = train_targets\n",
    "    x_train, x_valid, y_train, y_valid = train_test_split(X, Y, test_size=test_size, random_state=random_state)\n",
    "    return x_train, x_valid, y_train, y_valid\n"
   ]
  },
  {
   "cell_type": "code",
   "execution_count": 3,
   "metadata": {},
   "outputs": [],
   "source": [
    "#展示Accuracy数据\n",
    "import matplotlib.pyplot as plt\n",
    "\n",
    "def show_acc(history):\n",
    "    print(history.history.keys())\n",
    "    figure=plt.figure()\n",
    "    plt.plot(history.history['acc'])\n",
    "    plt.plot(history.history['val_acc'])\n",
    "    plt.title('Model accucary')\n",
    "    plt.xlabel('accuracy')\n",
    "    plt.ylabel('epoch')\n",
    "    #注意!\n",
    "    plt.legend(['train','valid'],loc='upper left')\n",
    "    figure.savefig('performance_acc.png')\n",
    "    \n",
    "\n",
    "#展示Loss数据  \n",
    "def show_loss(history):\n",
    "    print(history.history.keys())\n",
    "    figure=plt.figure()\n",
    "    plt.plot(history.history['loss'])\n",
    "    plt.plot(history.history['val_loss'])\n",
    "    plt.title('Model Loss')\n",
    "    plt.xlabel('Loss')\n",
    "    plt.ylabel('epoch')\n",
    "    #注意!\n",
    "    plt.legend(['train','valid'],loc='upper left')\n",
    "    figure.savefig('performance_loss.png')"
   ]
  },
  {
   "cell_type": "code",
   "execution_count": 4,
   "metadata": {},
   "outputs": [],
   "source": [
    "#展示模型,因为要安装额外软件,所以linux就注释掉了\n",
    "#from keras.utils import plot_model\n",
    "#pip install pydot\n",
    "#pip install pydot-ng\n",
    "#pip install graphviz \n",
    "#参考https://blog.csdn.net/u011311291/article/details/80298563\n",
    "#https://packages.ubuntu.com/search?keywords=graphviz&searchon=names\n",
    "#plot_model(model, to_file='model.png',show_shapes=True)"
   ]
  },
  {
   "cell_type": "code",
   "execution_count": 5,
   "metadata": {},
   "outputs": [
    {
     "name": "stderr",
     "output_type": "stream",
     "text": [
      "Using TensorFlow backend.\n"
     ]
    }
   ],
   "source": [
    "#另一种可视化模型的方法\n",
    "from IPython.display import SVG\n",
    "from keras.utils.vis_utils import model_to_dot\n",
    "\n",
    "#SVG(model_to_dot(model).create(prog='dot', format='svg'))"
   ]
  },
  {
   "cell_type": "code",
   "execution_count": 6,
   "metadata": {},
   "outputs": [],
   "source": [
    "#接下来的处理方式是将所有的图片都处理成向量\n",
    "from keras.preprocessing import image\n",
    "from keras.applications.inception_resnet_v2 import preprocess_input as ir_preprocess_input\n",
    "from tqdm import tqdm\n",
    "\n",
    "##pip install  tqdm\n",
    "#注意要安装tqdm\n",
    "def path_to_tensor(image_path,target_size=(299,299)):\n",
    "    '''将图片转换为tensor向量'''\n",
    "    img=image.load_img(image_path,target_size=target_size)\n",
    "    x=image.img_to_array(img)\n",
    "    x=ir_preprocess_input(x)\n",
    "    return np.expand_dims(x,axis=0)\n",
    "\n",
    "def paths_to_tensor(image_paths):\n",
    "    '''批量将图片转换为tensor'''\n",
    "    list_of_tensor=[path_to_tensor(image_path) for image_path in tqdm(image_paths)]\n",
    "    return np.vstack(list_of_tensor)\n",
    "    "
   ]
  },
  {
   "cell_type": "code",
   "execution_count": 7,
   "metadata": {},
   "outputs": [],
   "source": [
    "from pandas import DataFrame\n",
    "\n",
    "# 按照图片顺序预测并输出结果到csv文件\n",
    "def predict_and_to_csv(test_dir,result_file,model):\n",
    "    image_paths=load_image_paths(test_dir)\n",
    "    result=predict_images(model,image_paths)\n",
    "    dataframe=DataFrame(result)\n",
    "    dataframe.index = np.arange(1, len(dataframe)+1)\n",
    "    dataframe.to_csv(result_file,index_label ='id',header=['label'])\n",
    "    return image_paths,result"
   ]
  },
  {
   "cell_type": "code",
   "execution_count": 8,
   "metadata": {},
   "outputs": [],
   "source": [
    "#写个方法加载验证集数据\n",
    "import numpy as np\n",
    "\n",
    "def load_image_paths(path):\n",
    "    '''输入相对路径,得到所有图片文件名'''\n",
    "    paths = []\n",
    "    for i in range(1, 12501):\n",
    "        paths.append(path + str(i) + '.jpg')\n",
    "    if len(paths) > 0:\n",
    "        return np.array(paths)\n",
    "    else:\n",
    "        return None\n",
    "\n",
    "def predict_images(model, file_names):\n",
    "    '''根据名字输出是狗的概率'''\n",
    "    x = paths_to_tensor(file_names)\n",
    "    return model.predict(x)\n"
   ]
  },
  {
   "cell_type": "code",
   "execution_count": 9,
   "metadata": {},
   "outputs": [],
   "source": [
    "from pandas import DataFrame\n",
    "\n",
    "def array_to_csv(array):\n",
    "    dataframe=DataFrame(array)\n",
    "    dataframe.index = np.arange(1, len(dataframe)+1)\n",
    "    dataframe.to_csv('result.csv',index_label ='id',header=['label'])"
   ]
  },
  {
   "cell_type": "markdown",
   "metadata": {},
   "source": [
    "####  接下来,进行首次加载基准模型的尝试,并锁住基准模型中所有的层,添加新的层进行训练.\n",
    "所做的操作有:\n",
    "* 使用的整体数据的一小部分\n",
    "* 加载好预训练好的InceptionResNetV2以及权重\n",
    "* 在base_model的基础上增加Dense层和Dropout层\n",
    "* 训练,将具有最佳val_acc时的模型权重保存起来"
   ]
  },
  {
   "cell_type": "code",
   "execution_count": null,
   "metadata": {},
   "outputs": [],
   "source": [
    "from keras import Model\n",
    "from keras.applications.inception_resnet_v2 import InceptionResNetV2\n",
    "from keras.layers import Dense\n",
    "from keras.layers import Dropout\n",
    "from keras.layers import GlobalAveragePooling2D\n",
    "\n",
    "base_model = InceptionResNetV2(weights='imagenet', include_top=False)\n",
    "#将基准模型中的层全部锁住\n",
    "for layer in base_model.layers:\n",
    "    layer.trainable = False\n",
    "\n",
    "x = GlobalAveragePooling2D()(base_model.output)\n",
    "x = Dropout(0.2)(x)\n",
    "# 添加一个分类器，我们有2个类\n",
    "predictions = Dense(1, activation='sigmoid')(x)\n",
    "\n",
    "# 构建我们需要训练的完整模型\n",
    "model = Model(inputs=base_model.input, outputs=predictions)\n",
    "\n",
    "model.compile(loss='binary_crossentropy', optimizer='adadelta', metrics=['accuracy'])\n",
    "for i, layer in enumerate(model.layers):\n",
    "    print(i, layer.name)\n",
    "\n",
    "# 输出模型的样式\n",
    "model.summary()"
   ]
  },
  {
   "cell_type": "code",
   "execution_count": null,
   "metadata": {},
   "outputs": [],
   "source": [
    "from keras.callbacks import ModelCheckpoint\n",
    "import os\n",
    "#开始训练模型\n",
    "###设置训练模型的epochs的数量\n",
    "epochs = 15\n",
    "batch_size=40\n",
    "check_point_filepath='./saved_models/weights.best-{epoch:02d}-{val_acc:.2f}.hdf5'\n",
    "saved_model_path='./saved_models'\n",
    "\n",
    "#文件夹不存在,就创建文件夹\n",
    "if not os.path.exists(saved_model_path):\n",
    "    os.mkdir()\n",
    "    \n",
    "####设置检查点\n",
    "checkpointer = ModelCheckpoint(filepath=check_point_filepath, monitor='val_acc',verbose=1, save_best_only=True)\n",
    "\n",
    "#设置回调\n",
    "call_back=[checkpointer]\n",
    "\n",
    "#加载数据\n",
    "x_train_data=paths_to_tensor(x_train)\n",
    "x_valid_data=paths_to_tensor(x_valid)"
   ]
  },
  {
   "cell_type": "code",
   "execution_count": null,
   "metadata": {},
   "outputs": [],
   "source": [
    "#开始训练\n",
    "epochs=15\n",
    "history= model.fit(x_train_data,y_train,validation_data=(x_valid_data,y_valid),epochs=epochs,batch_size=40,callbacks=call_back)"
   ]
  },
  {
   "cell_type": "markdown",
   "metadata": {},
   "source": [
    "#### 在训练时遭遇了一个严重问题,在使用数据集5000,epoch=10,batch_size=50的时候,验证集的val_loss:保持在8.2847 ,val_acc:固定在0.4860,令人费解.\n",
    "#### 我做了如下尝试:\n",
    "* 1.停止训练,检查load_files,得到的数据,图片和target是一一对应的\n",
    "* 2.减少了训练集大小和epoch和batch_size来加快训练速度\n",
    "* 3.修改了model compile时使用的损失函数,从accuracy 改成binary_accuracy"
   ]
  },
  {
   "cell_type": "markdown",
   "metadata": {},
   "source": [
    "#### 经过查找原因,发现是数据集太小,模型无法收敛了导致的\n",
    "#### 解决方案:\n",
    "* 使用云服务器,有aws和gcp等几个可以选择,我使用gcp继续进行模型的训练 "
   ]
  },
  {
   "cell_type": "markdown",
   "metadata": {},
   "source": [
    "#### 在经过训练后,我又发现了上次类似的问题,验证集数据准确率只有0.51左右.最先考虑的情况是epoch太少,所以选择10-->30,发现作用不大\n",
    "#### 问题原因:\n",
    "* 数据集未经过预处理,且预处理的方法是InceptionResNet50独有的,这点需要注意\n"
   ]
  },
  {
   "cell_type": "markdown",
   "metadata": {},
   "source": [
    "#### 经过训练.发现上面两图中的Loss在epoch=5的时候就到达了最大.Accurcy差不多是最高的,所以判断epoch<10内模型就应该收敛了,于是重新训练 并且将输入尺寸从224 * 224  改成模型默认的299 * 299"
   ]
  },
  {
   "cell_type": "markdown",
   "metadata": {},
   "source": [
    "#### 在训练时,使用不同的batch_size,曲线有的变化很大,batch_size为40的时候,曲线比较平缓,在bacth_size分别为35,50,30的时候,学习曲线都上下震荡,所有就把40默认成训练时的batch_size"
   ]
  },
  {
   "cell_type": "markdown",
   "metadata": {},
   "source": [
    "#### 在锁层并得到比较好的val_acc时,保存了权重,并加载这部分权重.然后尝试开放部分层来检测结果\n",
    "所做过的尝试有:\n",
    "* 只训练617-776层,在此之上的层锁住,得到的最终分数为0.22848\n",
    "* 617以后的层都不锁, 训练.最终分数为0.16487``"
   ]
  },
  {
   "cell_type": "markdown",
   "metadata": {},
   "source": [
    "#### 上面的方案尝试过后,决定修改策略.就是base_model直接锁层,只训练一次权重.\n",
    "然后做过的尝试有:\n",
    "* 只训练base_model的617-776层,最终分数是0.10634\n",
    "*  260以后的层不锁,训练.最终分数是0.12924\n",
    "* 全部不锁层,最终分数是:0.09176"
   ]
  },
  {
   "cell_type": "markdown",
   "metadata": {},
   "source": [
    "####  开放更多层还是出现验证集Loss很低,但是测试集损失0.1左右,认为还是过拟合.\n",
    "#### 猜测此模型可能容易发生过拟合.将采取下一个方案:\n",
    "* 使用数据增强的方式"
   ]
  },
  {
   "cell_type": "code",
   "execution_count": null,
   "metadata": {},
   "outputs": [],
   "source": [
    "####接下来,开启使用数据增强的方式来进行微调"
   ]
  },
  {
   "cell_type": "code",
   "execution_count": null,
   "metadata": {},
   "outputs": [],
   "source": [
    "# 18:27 继续训练,开放更多层\n",
    "# 加载权重,进行fine-tune\n",
    "from keras import Model\n",
    "from keras.applications.inception_resnet_v2 import InceptionResNetV2\n",
    "from keras.callbacks import EarlyStopping\n",
    "from keras.callbacks import ModelCheckpoint\n",
    "from keras.layers import Dense\n",
    "from keras.layers import Dropout\n",
    "from keras.layers import GlobalAveragePooling2D\n",
    "\n",
    "base_model = InceptionResNetV2(weights='imagenet', include_top=False)\n",
    "for layer in base_model.layers:\n",
    "    layer.trainable = False\n",
    "\n",
    "x = GlobalAveragePooling2D()(base_model.output)\n",
    "x = Dense(512)(x)\n",
    "x = Dropout(0.2)(x)\n",
    "# 添加一个分类器，我们有2个类\n",
    "predictions = Dense(1, activation='sigmoid')(x)\n",
    "\n",
    "# 构建我们需要训练的完整模型\n",
    "model = Model(inputs=base_model.input, outputs=predictions)\n",
    "# 先加载权重\n",
    "# model.load_weights('./saved_models/weights.best-01-0.99477.hdf5')\n",
    "\n",
    "# #z再锁层\n",
    "# for layer in model.layers:\n",
    "#     layer.trainable=False\n",
    "\n",
    "# #后面的都不锁了,直接训练\n",
    "# for layer in model.layers[260:]:\n",
    "#     layer.trainable=True\n",
    "\n",
    "# 记得先编译    \n",
    "model.compile(loss='binary_crossentropy', optimizer='adam', metrics=['accuracy'])\n",
    "\n",
    "# 增加回调\n",
    "early_stoping = EarlyStopping(monitor='val_loss', patience=4, verbose=1, mode='auto')\n",
    "check_point_filepath = './saved_models/weights.best.062012119.valid-{epoch:02d}-{val_acc:.5f}.hdf5'\n",
    "\n",
    "# 设置检查点\n",
    "checkpointer = ModelCheckpoint(filepath=check_point_filepath, monitor='val_loss', verbose=1, save_best_only=True)\n",
    "call_backs = [early_stoping, checkpointer]\n",
    "\n",
    "# 也要更新下样本啊\n",
    "x_train, x_valid, y_train, y_valid = load_all_data(test_size=0.3, random_state=8888)\n",
    "\n",
    "# del x_train_data\n",
    "# del x_valid_data\n",
    "\n",
    "# 加载数据\n",
    "x_train_data = paths_to_tensor(x_train)\n",
    "x_valid_data = paths_to_tensor(x_valid)\n",
    "\n",
    "# 使用更小的batch_size进行测试 \n",
    "history = model.fit(x_train_data, y_train, validation_data=(x_valid_data, y_valid), epochs=50, batch_size=40,\n",
    "                    callbacks=call_backs)\n"
   ]
  },
  {
   "cell_type": "code",
   "execution_count": null,
   "metadata": {},
   "outputs": [],
   "source": [
    "show_acc(history)\n",
    "show_loss(history)\n"
   ]
  },
  {
   "cell_type": "code",
   "execution_count": null,
   "metadata": {},
   "outputs": [],
   "source": [
    "# 加载权重\n",
    "model.load_weights('./saved_models/weights.best.06201825.valid-01-0.99094.hdf5')\n",
    "paths, array = predict_and_to_csv('./test/', 'result06201827.csv')\n"
   ]
  },
  {
   "cell_type": "code",
   "execution_count": 10,
   "metadata": {},
   "outputs": [
    {
     "name": "stdout",
     "output_type": "stream",
     "text": [
      "原文件已经存在,请先删除\n"
     ]
    }
   ],
   "source": [
    "# 在此之前还要做一个重要的工作,就是提取bottleneck_feature\n",
    "# ,这样就不用再训练模型的时候加载很久了\n",
    "import os\n",
    "import shutil\n",
    "\n",
    "import h5py\n",
    "from keras.applications.inception_resnet_v2 import InceptionResNetV2\n",
    "from keras.applications.inception_resnet_v2 import preprocess_input\n",
    "from keras.layers import Lambda, Input, GlobalAveragePooling2D\n",
    "from keras.models import Model\n",
    "from keras.preprocessing.image import ImageDataGenerator\n",
    "\n",
    "def rm_rf_and_mkdir(directory_name):\n",
    "    \"\"\"删除该目录下所有文件,如果不存在该文件夹,则新建\n",
    "    :argument directory_name 要处理的文件夹\n",
    "    \"\"\"\n",
    "    if os.path.exists(directory_name):\n",
    "        shutil.rmtree(directory_name)\n",
    "    os.mkdir(directory_name)\n",
    "\n",
    "\n",
    "def save_bottleneck_feature(target_size=(299, 299), feature_file_name='inception_resnetv2.h5'):\n",
    "    \"\"\"获取特征向量\n",
    "    :argument target_size 图片将被处理的尺寸\n",
    "    :argument feature_file_name 特征向量存放的文件\n",
    "    \"\"\"\n",
    "    if os.path.exists(feature_file_name):\n",
    "        print('原文件已经存在,请先删除')\n",
    "        return\n",
    "\n",
    "    image_width = target_size[0]\n",
    "    image_height = target_size[1]\n",
    "    input_tensor = Input((image_width, image_height, 3))\n",
    "    # 先使用该模型自带的预处理方法处理下\n",
    "    processed_input = Lambda(preprocess_input)(input_tensor)\n",
    "\n",
    "    base_model = InceptionResNetV2(weights='imagenet', include_top=False, input_tensor=processed_input)\n",
    "    #  将输入转输出,得到1536的输出,输出最后会被全局池化层处理下\n",
    "    model = Model(base_model.input, GlobalAveragePooling2D()(base_model.output))\n",
    "\n",
    "    generator = ImageDataGenerator()\n",
    "    train_generator = generator.flow_from_directory('train_set', target_size, shuffle=False, batch_size=50)\n",
    "    # 注意 class_mode为None\n",
    "    test_generator = generator.flow_from_directory('test_set', target_size, shuffle=False, class_mode=None,\n",
    "                                                   batch_size=50)\n",
    "    # step_per_epoch是自动计算的\n",
    "    train = model.predict_generator(train_generator, use_multiprocessing=True, verbose=1)\n",
    "    test = model.predict_generator(test_generator, use_multiprocessing=True, verbose=1)\n",
    "\n",
    "    with h5py.File(feature_file_name) as h:\n",
    "        h.create_dataset(\"train\", data=train)\n",
    "        h.create_dataset(\"test\", data=test)\n",
    "        # train_targets\n",
    "        h.create_dataset(\"label\", data=train_generator.classes)\n",
    "\n",
    "#  删除test_set文件夹,并为原目录创建软连接\n",
    "rm_rf_and_mkdir('test_set')\n",
    "os.symlink('../test/', 'test_set/test')\n",
    "save_bottleneck_feature()\n"
   ]
  },
  {
   "cell_type": "code",
   "execution_count": 12,
   "metadata": {},
   "outputs": [],
   "source": [
    "import h5py\n",
    "import numpy as np\n",
    "from sklearn.utils import shuffle\n",
    "\n",
    "def get_train_data_target(feature_file_name='inception_resnetv2.h5'):\n",
    "    \"\"\"\n",
    "    从h5文件中提取训练集数据,还有训练集标签\n",
    "    \"\"\"\n",
    "    # 随机数放在这里,保证每次切分都一样\n",
    "    np.random.seed(8282)\n",
    "    with h5py.File(feature_file_name, 'r') as h:\n",
    "        X_train = np.array(h['train'])\n",
    "        y_train = np.array(h['label'])\n",
    "\n",
    "    print(X_train.shape)\n",
    "    X_train, y_train = shuffle(X_train, y_train)\n",
    "    return X_train, y_train\n",
    "\n",
    "def get_test_data(feature_file_name='inception_resnetv2.h5'):\n",
    "    \"\"\"\n",
    "    从h5文件中提取测试集数据\n",
    "    \"\"\"\n",
    "    with h5py.File(feature_file_name, 'r') as h:\n",
    "        X_test = np.array(h['test'])\n",
    "\n",
    "    print(X_test.shape)\n",
    "    return X_test\n"
   ]
  },
  {
   "cell_type": "code",
   "execution_count": 11,
   "metadata": {},
   "outputs": [],
   "source": [
    "from keras.callbacks import EarlyStopping, ModelCheckpoint\n",
    "from keras.layers import *\n",
    "from keras.models import *\n",
    "\n",
    "# 将得到的特征向量提取出来,并进行测试\n",
    "def get_model(X_train,dropout=0.4,optimizer='adadelta'):\n",
    "    \"\"\"得到同一个模型,方便测试\"\"\"\n",
    "    input_tensor = Input(X_train.shape[1:])\n",
    "    x = Dropout(dropout)(input_tensor)\n",
    "    x = Dense(1, activation='sigmoid')(x)\n",
    "    model = Model(input_tensor, x)\n",
    "    model.compile(optimizer=optimizer, loss='binary_crossentropy', metrics=['accuracy'])\n",
    "    return model"
   ]
  },
  {
   "cell_type": "code",
   "execution_count": null,
   "metadata": {},
   "outputs": [],
   "source": [
    "X_train,y_train=get_train_data_target()\n",
    "\n",
    "model=get_model(X_train)\n",
    "\n",
    "# 增加停止点\n",
    "early_stoping = EarlyStopping(monitor='val_loss', patience=4, verbose=1, mode='auto')\n",
    "# 设置检查点\n",
    "check_point_filepath = './saved_models/weights.best.06231223.valid-{epoch:02d}-{val_acc:.5f}.hdf5'\n",
    "checkpointer = ModelCheckpoint(filepath=check_point_filepath, monitor='val_loss', verbose=1, save_best_only=True)\n",
    "call_backs = [early_stoping, checkpointer]\n",
    "\n",
    "history = model.fit(X_train, y_train, batch_size=40, epochs=10, validation_split=0.2, callbacks=call_backs)"
   ]
  },
  {
   "cell_type": "code",
   "execution_count": 15,
   "metadata": {},
   "outputs": [],
   "source": [
    "# 按照图片顺序预测并输出结果到csv文件\n",
    "def predict_and_to_csv_with_clip(test_dir,result_file,model,clip=True):\n",
    "    image_paths=load_image_paths(test_dir)\n",
    "    result=predict_images(model,image_paths)\n",
    "    dataframe=DataFrame(result.clip(min=0.005, max=0.995))\n",
    "    dataframe.index = np.arange(1, len(dataframe)+1)\n",
    "    dataframe.to_csv(result_file,index_label ='id',header=['label'])\n",
    "    return image_paths,result"
   ]
  },
  {
   "cell_type": "markdown",
   "metadata": {},
   "source": [
    "####  我的策略\n",
    "1.先提取特征\n",
    "2.使用数据增强\n",
    "3.锁住一部分层\n",
    "4.开始训练"
   ]
  },
  {
   "cell_type": "code",
   "execution_count": null,
   "metadata": {},
   "outputs": [],
   "source": [
    "show_acc(history)\n",
    "show_loss(history)"
   ]
  },
  {
   "cell_type": "markdown",
   "metadata": {},
   "source": [
    "从上图来看,模型在epoch=8的时候,获得了最好的结果.训练的结果是最好的.为了验证这个解决,我测试在epoch=10和epoch=8时的预测结果的成绩"
   ]
  },
  {
   "cell_type": "code",
   "execution_count": null,
   "metadata": {},
   "outputs": [],
   "source": [
    "X_test=get_test_data()\n",
    "# 在epoch=10时的预测结果\n",
    "predict_of_epoch10 = model.predict(X_test, verbose=1)\n",
    "\n",
    "# 然后加载epoch=8时的权重,再预测\n",
    "model.load_weights('./saved_models/weights.best.06231223.valid-07-0.99738.hdf5')\n",
    "predict_of_epoch8=model.predict(X_test, verbose=1)"
   ]
  },
  {
   "cell_type": "code",
   "execution_count": 13,
   "metadata": {},
   "outputs": [],
   "source": [
    "from keras.preprocessing.image import *\n",
    "\n",
    "def get_sorted_prediction(prediction, clip=True, show_head=True):\n",
    "    \"\"\"将预测结果按照正常顺序排列\n",
    "    :argument clip True就clip结果,限制在[0.05,0.995],False不做修改\n",
    "    :argument prediction 预测的结果\n",
    "    :argument show_head 展示部分结果\n",
    "    \"\"\"\n",
    "    if clip:\n",
    "        prediction = prediction.clip(min=0.005, max=0.995)\n",
    "    gen = ImageDataGenerator()\n",
    "    test_generator = gen.flow_from_directory('test_set', shuffle=False, class_mode=None, batch_size=50)\n",
    "\n",
    "    # 创建数组来保存正常的预测结果\n",
    "    array = np.zeros(len(test_generator.filenames))\n",
    "    for i, file_name in enumerate(test_generator.filenames):\n",
    "        index = int(file_name[file_name.rfind('/') + 1:file_name.rfind('.')])\n",
    "        # 因为prediction得到的n * 1维的数组\n",
    "        array[index - 1] = prediction[i][0]\n",
    "    if show_head:\n",
    "        print('prediction:', prediction[0:10])\n",
    "        print(test_generator.filenames[0:10])\n",
    "        print(array[0:10])\n",
    "    return array\n"
   ]
  },
  {
   "cell_type": "code",
   "execution_count": 14,
   "metadata": {},
   "outputs": [],
   "source": [
    "from pandas import DataFrame\n",
    "\n",
    "def predict_to_csv(result_file, prediction):\n",
    "    \"\"\"#预测并输出结果到csv文件\"\"\"\n",
    "    dataframe = DataFrame(prediction)\n",
    "    dataframe.index = np.arange(1, len(dataframe) + 1)\n",
    "    dataframe.to_csv(result_file, index_label='id', header=['label'])\n",
    "    print(dataframe[:10])\n"
   ]
  },
  {
   "cell_type": "code",
   "execution_count": null,
   "metadata": {},
   "outputs": [],
   "source": [
    "# 预测结果,查看模型权重下的预测成绩\n",
    "prediction_10= get_sorted_prediction(predict_of_epoch10, False, False)\n",
    "predict_to_csv('20180623_epoch_10prediction.csv', prediction_10)\n",
    "\n",
    "prediction_8 = get_sorted_prediction(predict_of_epoch8, False, False)\n",
    "predict_to_csv('20180623_epoch_8prediction.csv', prediction_8)"
   ]
  },
  {
   "cell_type": "code",
   "execution_count": null,
   "metadata": {},
   "outputs": [],
   "source": [
    "# 然后比较下做了clip后的预测成绩\n",
    "prediction_10= get_sorted_prediction(predict_of_epoch10, True, False)\n",
    "predict_to_csv('20180623_epoch_10prediction_cliped.csv', prediction_10)\n",
    "\n",
    "prediction_8 = get_sorted_prediction(predict_of_epoch8, True, False)\n",
    "predict_to_csv('20180623_epoch_8prediction_cliped.csv', prediction_8)"
   ]
  },
  {
   "cell_type": "markdown",
   "metadata": {},
   "source": [
    "#### 接下来的方案是选择微调"
   ]
  },
  {
   "cell_type": "code",
   "execution_count": 18,
   "metadata": {},
   "outputs": [
    {
     "name": "stdout",
     "output_type": "stream",
     "text": [
      "top_model.load_weights\n",
      "final_model inited\n",
      "_________________________________________________________________\n",
      "Layer (type)                 Output Shape              Param #   \n",
      "=================================================================\n",
      "inception_resnet_v2 (Model)  (None, None, None, 1536)  54336736  \n",
      "_________________________________________________________________\n",
      "sequential_1 (Sequential)    (None, 1)                 1537      \n",
      "=================================================================\n",
      "Total params: 54,338,273\n",
      "Trainable params: 23,543,553\n",
      "Non-trainable params: 30,794,720\n",
      "_________________________________________________________________\n",
      "model2 outshape (None, 1)\n",
      "_________________________________________________________________\n",
      "Layer (type)                 Output Shape              Param #   \n",
      "=================================================================\n",
      "inception_resnet_v2 (Model)  (None, None, None, 1536)  54336736  \n",
      "_________________________________________________________________\n",
      "sequential_1 (Sequential)    (None, 1)                 1537      \n",
      "=================================================================\n",
      "Total params: 54,338,273\n",
      "Trainable params: 23,543,553\n",
      "Non-trainable params: 30,794,720\n",
      "_________________________________________________________________\n"
     ]
    },
    {
     "name": "stderr",
     "output_type": "stream",
     "text": [
      "/usr/lib/python3.5/importlib/_bootstrap.py:222: RuntimeWarning: numpy.dtype size changed, may indicate binary incompatibility. Expected 96, got 88\n",
      "  return f(*args, **kwds)\n",
      "  0%|          | 16/19868 [00:00<02:04, 159.31it/s]"
     ]
    },
    {
     "name": "stdout",
     "output_type": "stream",
     "text": [
      "<class 'sklearn.utils.Bunch'>\n",
      "train_set/cat/cat.3557.jpg 0\n"
     ]
    },
    {
     "name": "stderr",
     "output_type": "stream",
     "text": [
      "100%|██████████| 19868/19868 [01:55<00:00, 172.00it/s]\n",
      "100%|██████████| 4967/4967 [00:26<00:00, 185.69it/s]\n"
     ]
    },
    {
     "name": "stdout",
     "output_type": "stream",
     "text": [
      "Epoch 1/20\n",
      "497/497 [==============================] - 417s 839ms/step - loss: 0.3562 - acc: 0.8732 - val_loss: 0.1441 - val_acc: 0.9487\n",
      "\n",
      "Epoch 00001: val_loss improved from inf to 0.14407, saving model to ./saved_models/weights.final_model.06231637.valid-01-0.948661.hdf5\n",
      "Epoch 2/20\n",
      "497/497 [==============================] - 404s 813ms/step - loss: 0.1918 - acc: 0.9171 - val_loss: 0.1226 - val_acc: 0.9557\n",
      "\n",
      "Epoch 00002: val_loss improved from 0.14407 to 0.12262, saving model to ./saved_models/weights.final_model.06231637.valid-02-0.955708.hdf5\n",
      "Epoch 3/20\n",
      "497/497 [==============================] - 403s 810ms/step - loss: 0.1695 - acc: 0.9302 - val_loss: 0.1311 - val_acc: 0.9547\n",
      "\n",
      "Epoch 00003: val_loss did not improve from 0.12262\n",
      "Epoch 4/20\n",
      "497/497 [==============================] - 401s 807ms/step - loss: 0.1486 - acc: 0.9396 - val_loss: 0.1122 - val_acc: 0.9607\n",
      "\n",
      "Epoch 00004: val_loss improved from 0.12262 to 0.11217, saving model to ./saved_models/weights.final_model.06231637.valid-04-0.960741.hdf5\n",
      "Epoch 5/20\n",
      "497/497 [==============================] - 402s 809ms/step - loss: 0.1441 - acc: 0.9401 - val_loss: 0.1101 - val_acc: 0.9632\n",
      "\n",
      "Epoch 00005: val_loss improved from 0.11217 to 0.11007, saving model to ./saved_models/weights.final_model.06231637.valid-05-0.963157.hdf5\n",
      "Epoch 6/20\n",
      "497/497 [==============================] - 401s 807ms/step - loss: 0.1339 - acc: 0.9455 - val_loss: 0.0957 - val_acc: 0.9678\n",
      "\n",
      "Epoch 00006: val_loss improved from 0.11007 to 0.09571, saving model to ./saved_models/weights.final_model.06231637.valid-06-0.967787.hdf5\n",
      "Epoch 7/20\n",
      "497/497 [==============================] - 401s 807ms/step - loss: 0.1228 - acc: 0.9492 - val_loss: 0.1016 - val_acc: 0.9644\n",
      "\n",
      "Epoch 00007: val_loss did not improve from 0.09571\n",
      "Epoch 8/20\n",
      "497/497 [==============================] - 401s 807ms/step - loss: 0.1197 - acc: 0.9507 - val_loss: 0.0915 - val_acc: 0.9696\n",
      "\n",
      "Epoch 00008: val_loss improved from 0.09571 to 0.09154, saving model to ./saved_models/weights.final_model.06231637.valid-08-0.969599.hdf5\n",
      "Epoch 9/20\n",
      "497/497 [==============================] - 401s 806ms/step - loss: 0.1095 - acc: 0.9561 - val_loss: 0.0950 - val_acc: 0.9684\n",
      "\n",
      "Epoch 00009: val_loss did not improve from 0.09154\n",
      "Epoch 10/20\n",
      "497/497 [==============================] - 400s 806ms/step - loss: 0.1016 - acc: 0.9584 - val_loss: 0.0866 - val_acc: 0.9698\n",
      "\n",
      "Epoch 00010: val_loss improved from 0.09154 to 0.08659, saving model to ./saved_models/weights.final_model.06231637.valid-10-0.969801.hdf5\n",
      "Epoch 11/20\n",
      "497/497 [==============================] - 402s 808ms/step - loss: 0.1110 - acc: 0.9554 - val_loss: 0.0821 - val_acc: 0.9722\n",
      "\n",
      "Epoch 00011: val_loss improved from 0.08659 to 0.08206, saving model to ./saved_models/weights.final_model.06231637.valid-11-0.972217.hdf5\n",
      "Epoch 12/20\n",
      "497/497 [==============================] - 400s 806ms/step - loss: 0.1029 - acc: 0.9596 - val_loss: 0.0851 - val_acc: 0.9710\n",
      "\n",
      "Epoch 00012: val_loss did not improve from 0.08206\n",
      "Epoch 13/20\n",
      "497/497 [==============================] - 402s 808ms/step - loss: 0.0997 - acc: 0.9602 - val_loss: 0.0818 - val_acc: 0.9714\n",
      "\n",
      "Epoch 00013: val_loss improved from 0.08206 to 0.08181, saving model to ./saved_models/weights.final_model.06231637.valid-13-0.971411.hdf5\n",
      "Epoch 14/20\n",
      "497/497 [==============================] - 401s 808ms/step - loss: 0.0943 - acc: 0.9635 - val_loss: 0.0835 - val_acc: 0.9706\n",
      "\n",
      "Epoch 00014: val_loss did not improve from 0.08181\n",
      "Epoch 15/20\n",
      "497/497 [==============================] - 402s 808ms/step - loss: 0.0916 - acc: 0.9630 - val_loss: 0.0867 - val_acc: 0.9714\n",
      "\n",
      "Epoch 00015: val_loss did not improve from 0.08181\n",
      "Epoch 16/20\n",
      "497/497 [==============================] - 401s 806ms/step - loss: 0.0893 - acc: 0.9646 - val_loss: 0.0823 - val_acc: 0.9712\n",
      "\n",
      "Epoch 00016: val_loss did not improve from 0.08181\n",
      "Epoch 17/20\n",
      "497/497 [==============================] - 400s 806ms/step - loss: 0.0870 - acc: 0.9673 - val_loss: 0.0765 - val_acc: 0.9748\n",
      "\n",
      "Epoch 00017: val_loss improved from 0.08181 to 0.07650, saving model to ./saved_models/weights.final_model.06231637.valid-17-0.974834.hdf5\n",
      "Epoch 18/20\n",
      "497/497 [==============================] - 402s 809ms/step - loss: 0.0882 - acc: 0.9656 - val_loss: 0.0819 - val_acc: 0.9688\n",
      "\n",
      "Epoch 00018: val_loss did not improve from 0.07650\n",
      "Epoch 19/20\n",
      "497/497 [==============================] - 401s 806ms/step - loss: 0.0832 - acc: 0.9668 - val_loss: 0.0630 - val_acc: 0.9779\n",
      "\n",
      "Epoch 00019: val_loss improved from 0.07650 to 0.06301, saving model to ./saved_models/weights.final_model.06231637.valid-19-0.977854.hdf5\n",
      "Epoch 20/20\n",
      "497/497 [==============================] - 401s 807ms/step - loss: 0.0801 - acc: 0.9675 - val_loss: 0.0654 - val_acc: 0.9762\n",
      "\n",
      "Epoch 00020: val_loss did not improve from 0.06301\n"
     ]
    }
   ],
   "source": [
    "from keras import Model\n",
    "from keras.applications.inception_resnet_v2 import InceptionResNetV2\n",
    "from keras.layers import Dense\n",
    "from keras.layers import Dropout\n",
    "from keras.layers import GlobalAveragePooling2D\n",
    "from keras.models import Sequential\n",
    "from keras.preprocessing.image import ImageDataGenerator\n",
    "from keras.callbacks import EarlyStopping,ModelCheckpoint\n",
    "from keras.optimizers import SGD,Adadelta\n",
    "\n",
    "# 之前训练得到的权重\n",
    "top_model_weights_path='./saved_models/weights.best.06231223.valid-07-0.99738.hdf5'\n",
    "\n",
    "# 使用InceptionResNetV2作为base_model\n",
    "final_model = InceptionResNetV2(weights='imagenet', include_top=False)\n",
    "# 将基准模型617层前的全部锁住\n",
    "for layer in final_model.layers[:617]:\n",
    "    layer.trainable = False\n",
    "\n",
    "# 构建下面的几层\n",
    "top_model = Sequential()\n",
    "top_model.add(GlobalAveragePooling2D(input_shape=final_model.output_shape[1:]))\n",
    "top_model.add(Dropout(0.5))\n",
    "top_model.add(Dense(1, activation='sigmoid'))\n",
    "# 前面几层模型需要加载之前训练好的权重\n",
    "top_model.load_weights(top_model_weights_path)\n",
    "print('top_model.load_weights')\n",
    "\n",
    "\n",
    "print('final_model inited')\n",
    "# 两个模型拼接在一起就是我们自己的模型啦\n",
    "# final_model.add(top_model)\n",
    "    \n",
    "model2 = Sequential()\n",
    "model2.add(final_model)\n",
    "model2.add(top_model)\n",
    "model2.summary()\n",
    "# 构建我们需要训练的完整模型\n",
    "# model = Model(inputs=base_model.input, outputs=predictions)\n",
    "# final_model.add(top_model)\n",
    "\n",
    "print('model2 outshape',model2.output_shape)\n",
    "model2.compile(loss='binary_crossentropy', optimizer='adadelta', metrics=['accuracy'])\n",
    "\n",
    "# 输出模型的样式\n",
    "model2.summary()\n",
    "\n",
    "gen=ImageDataGenerator(rotation_range=30, width_shift_range=0.1,height_shift_range=0.1,shear_range=0.5,\n",
    "                zoom_range=0.2,horizontal_flip=True,vertical_flip=True)\n",
    "\n",
    "# 也要更新下样本啊\n",
    "x_train, x_valid, y_train, y_valid = load_all_data(test_size=0.2, random_state=6566)\n",
    "\n",
    "# 加载数据\n",
    "x_train_data = paths_to_tensor(x_train)\n",
    "x_valid_data = paths_to_tensor(x_valid)\n",
    "\n",
    "\n",
    "# 增加停止点\n",
    "early_stoping = EarlyStopping(monitor='val_loss', patience=4, verbose=1, mode='auto')\n",
    "# 设置检查点\n",
    "check_point_filepath = './saved_models/weights.final_model.06231637.valid-{epoch:02d}-{val_acc:.6f}.hdf5'\n",
    "checkpointer = ModelCheckpoint(filepath=check_point_filepath, monitor='val_loss', verbose=1, save_best_only=True)\n",
    "callbacks = [early_stoping, checkpointer]\n",
    "\n",
    "\n",
    "train_genetrator=gen.flow(x_train_data,y_train,batch_size=50,shuffle=True)\n",
    "valid_genetrator=gen.flow(x_valid_data,y_valid,batch_size=50,shuffle=True)\n",
    "history=model2.fit_generator(train_genetrator,epochs=20,verbose=1,callbacks=callbacks,\n",
    "                    validation_data=valid_genetrator)"
   ]
  },
  {
   "cell_type": "code",
   "execution_count": 24,
   "metadata": {},
   "outputs": [
    {
     "name": "stdout",
     "output_type": "stream",
     "text": [
      "dict_keys(['val_acc', 'val_loss', 'loss', 'acc'])\n",
      "dict_keys(['val_acc', 'val_loss', 'loss', 'acc'])\n"
     ]
    },
    {
     "data": {
      "image/png": "[encoded data removed]",
      "text/plain": [
       "<Figure size 432x288 with 1 Axes>"
      ]
     },
     "metadata": {},
     "output_type": "display_data"
    },
    {
     "data": {
      "image/png": "[encoded data removed]",
      "text/plain": [
       "<Figure size 432x288 with 1 Axes>"
      ]
     },
     "metadata": {},
     "output_type": "display_data"
    }
   ],
   "source": [
    "show_acc(history)\n",
    "show_loss(history)"
   ]
  },
  {
   "cell_type": "code",
   "execution_count": 25,
   "metadata": {},
   "outputs": [
    {
     "name": "stderr",
     "output_type": "stream",
     "text": [
      "100%|██████████| 12500/12500 [01:09<00:00, 178.59it/s]\n"
     ]
    }
   ],
   "source": [
    "paths, array = predict_and_to_csv_with_clip('./test/', 'result06232319.csv',model2)"
   ]
  },
  {
   "cell_type": "code",
   "execution_count": 21,
   "metadata": {},
   "outputs": [],
   "source": [
    "# model2.load_weights('./saved_models/weights.final_model.06231637.valid-01-0.984095.hdf5')\n",
    "# paths, array = predict_and_to_csv('./test/', 'result06232013_epoch1.csv',model2)"
   ]
  },
  {
   "cell_type": "code",
   "execution_count": null,
   "metadata": {},
   "outputs": [],
   "source": [
    "# 上一次的SGD 1E-4学习速率,batch_size=40,速度较慢,现在使用更大的学习速率和batch_size"
   ]
  },
  {
   "cell_type": "code",
   "execution_count": null,
   "metadata": {},
   "outputs": [],
   "source": [
    "from keras import Model\n",
    "from keras.applications.inception_resnet_v2 import InceptionResNetV2\n",
    "from keras.layers import Dense\n",
    "from keras.layers import Dropout\n",
    "from keras.layers import GlobalAveragePooling2D\n",
    "from keras.models import Sequential\n",
    "from keras.preprocessing.image import ImageDataGenerator\n",
    "from keras.callbacks import EarlyStopping,ModelCheckpoint\n",
    "from keras.optimizers import SGD,Adadelta\n",
    "\n",
    "# 之前训练得到的权重\n",
    "top_model_weights_path='./saved_models/weights.best.06231223.valid-07-0.99738.hdf5'\n",
    "\n",
    "# 使用InceptionResNetV2作为base_model\n",
    "final_model = InceptionResNetV2(weights='imagenet', include_top=False)\n",
    "# 将基准模型617层前的全部锁住\n",
    "for layer in final_model.layers[:617]:\n",
    "    layer.trainable = False\n",
    "\n",
    "# 构建下面的几层\n",
    "top_model = Sequential()\n",
    "top_model.add(GlobalAveragePooling2D(input_shape=final_model.output_shape[1:]))\n",
    "top_model.add(Dropout(0.5))\n",
    "top_model.add(Dense(1, activation='sigmoid'))\n",
    "# 前面几层模型需要加载之前训练好的权重\n",
    "top_model.load_weights(top_model_weights_path)\n",
    "print('top_model.load_weights')\n",
    "\n",
    "\n",
    "print('final_model inited')\n",
    "# 两个模型拼接在一起就是我们自己的模型啦\n",
    "# final_model.add(top_model)\n",
    "    \n",
    "model2 = Sequential()\n",
    "model2.add(final_model)\n",
    "model2.add(top_model)\n",
    "model2.summary()\n",
    "# 构建我们需要训练的完整模型\n",
    "# model = Model(inputs=base_model.input, outputs=predictions)\n",
    "# final_model.add(top_model)\n",
    "\n",
    "print('model2 outshape',model2.output_shape)\n",
    "model2.compile(loss='binary_crossentropy', optimizer=SGD(lr=5e-4, momentum=0.9), metrics=['accuracy'])\n",
    "\n",
    "# 输出模型的样式\n",
    "model2.summary()\n",
    "\n",
    "gen=ImageDataGenerator(rotation_range=30, width_shift_range=0.1,height_shift_range=0.1,shear_range=0.5,\n",
    "                zoom_range=0.2,horizontal_flip=True,vertical_flip=True)\n",
    "\n",
    "# 也要更新下样本啊\n",
    "x_train, x_valid, y_train, y_valid = load_all_data(test_size=0.2, random_state=6566)\n",
    "\n",
    "# 加载数据\n",
    "x_train_data = paths_to_tensor(x_train)\n",
    "x_valid_data = paths_to_tensor(x_valid)\n",
    "\n",
    "\n",
    "# 增加停止点\n",
    "early_stoping = EarlyStopping(monitor='val_loss', patience=4, verbose=1, mode='auto')\n",
    "# 设置检查点\n",
    "check_point_filepath = './saved_models/weights.final_model.06240904.valid-{epoch:02d}-{val_acc:.6f}.hdf5'\n",
    "checkpointer = ModelCheckpoint(filepath=check_point_filepath, monitor='val_loss', verbose=1, save_best_only=True)\n",
    "callbacks = [early_stoping, checkpointer]\n",
    "\n",
    "\n",
    "train_genetrator=gen.flow(x_train_data,y_train,batch_size=50,shuffle=True)\n",
    "valid_genetrator=gen.flow(x_valid_data,y_valid,batch_size=50,shuffle=True)\n",
    "history=model2.fit_generator(train_genetrator,epochs=20,verbose=1,callbacks=callbacks,\n",
    "                    validation_data=valid_genetrator)\n"
   ]
  },
  {
   "cell_type": "code",
   "execution_count": null,
   "metadata": {},
   "outputs": [],
   "source": [
    "show_acc(history)\n",
    "show_loss(history)\n",
    "\n",
    "paths, array = predict_and_to_csv_with_clip('./test/', 'result06240924csv',model2)"
   ]
  }
 ],
 "metadata": {
  "anaconda-cloud": {},
  "kernelspec": {
   "display_name": "Python 3",
   "language": "python",
   "name": "python3"
  },
  "language_info": {
   "codemirror_mode": {
    "name": "ipython",
    "version": 3
   },
   "file_extension": ".py",
   "mimetype": "text/x-python",
   "name": "python",
   "nbconvert_exporter": "python",
   "pygments_lexer": "ipython3",
   "version": "3.5.2"
  },
  "widgets": {
   "state": {},
   "version": "1.1.2"
  }
 },
 "nbformat": 4,
 "nbformat_minor": 2
}
